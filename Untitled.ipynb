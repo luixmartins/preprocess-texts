{
 "cells": [
  {
   "cell_type": "code",
   "execution_count": 54,
   "id": "390165de",
   "metadata": {},
   "outputs": [
    {
     "name": "stderr",
     "output_type": "stream",
     "text": [
      "[nltk_data] Downloading package stopwords to\n",
      "[nltk_data]     C:\\Users\\luizh\\AppData\\Roaming\\nltk_data...\n",
      "[nltk_data]   Package stopwords is already up-to-date!\n"
     ]
    }
   ],
   "source": [
    "import pandas as pd \n",
    "import numpy as np \n",
    "import re \n",
    "import nltk \n",
    "import string \n",
    "from nltk.corpus import stopwords \n",
    "import spacy \n",
    "import seaborn as sns \n",
    "from wordcloud import WordCloud \n",
    "import matplotlib.pyplot as plt \n",
    "\n",
    "sns.set(rc={'figure.figsize': (14, 6)})\n",
    "nltk.download('stopwords')\n",
    "\n",
    "global nlp \n",
    "nlp = spacy.load('pt_core_news_md')"
   ]
  },
  {
   "cell_type": "markdown",
   "id": "da330b71",
   "metadata": {},
   "source": [
    "### Explore data "
   ]
  },
  {
   "cell_type": "code",
   "execution_count": 55,
   "id": "b350d74b",
   "metadata": {},
   "outputs": [
    {
     "data": {
      "text/html": [
       "<div>\n",
       "<style scoped>\n",
       "    .dataframe tbody tr th:only-of-type {\n",
       "        vertical-align: middle;\n",
       "    }\n",
       "\n",
       "    .dataframe tbody tr th {\n",
       "        vertical-align: top;\n",
       "    }\n",
       "\n",
       "    .dataframe thead th {\n",
       "        text-align: right;\n",
       "    }\n",
       "</style>\n",
       "<table border=\"1\" class=\"dataframe\">\n",
       "  <thead>\n",
       "    <tr style=\"text-align: right;\">\n",
       "      <th></th>\n",
       "      <th>date</th>\n",
       "      <th>headline</th>\n",
       "      <th>news</th>\n",
       "      <th>cepea_real</th>\n",
       "      <th>percentage_real</th>\n",
       "      <th>trend</th>\n",
       "    </tr>\n",
       "  </thead>\n",
       "  <tbody>\n",
       "    <tr>\n",
       "      <th>0</th>\n",
       "      <td>30/12/2020</td>\n",
       "      <td>Preço do milho fecha 2020 em alta no Brasil; p...</td>\n",
       "      <td>A quarta-feira (30) chega ao final com os preç...</td>\n",
       "      <td>78.65</td>\n",
       "      <td>0.254939</td>\n",
       "      <td>Down</td>\n",
       "    </tr>\n",
       "    <tr>\n",
       "      <th>1</th>\n",
       "      <td>29/12/2020</td>\n",
       "      <td>Milho: demandas pontuais e volumes pequenos im...</td>\n",
       "      <td>A terça-feira (29) chega ao final com os preço...</td>\n",
       "      <td>78.45</td>\n",
       "      <td>0.551141</td>\n",
       "      <td>Up</td>\n",
       "    </tr>\n",
       "    <tr>\n",
       "      <th>2</th>\n",
       "      <td>28/12/2020</td>\n",
       "      <td>Milho se valoriza no Brasil e fecha a 2ªfeira ...</td>\n",
       "      <td>A segunda-feira (28) chega ao final com os pre...</td>\n",
       "      <td>78.02</td>\n",
       "      <td>0.541237</td>\n",
       "      <td>Up</td>\n",
       "    </tr>\n",
       "    <tr>\n",
       "      <th>3</th>\n",
       "      <td>23/12/2020</td>\n",
       "      <td>Milho: quarta-feira (23) de ganhos em Chicago ...</td>\n",
       "      <td>A quarta-feira (23) chega ao fim com os preços...</td>\n",
       "      <td>77.60</td>\n",
       "      <td>0.336178</td>\n",
       "      <td>Down</td>\n",
       "    </tr>\n",
       "    <tr>\n",
       "      <th>4</th>\n",
       "      <td>22/12/2020</td>\n",
       "      <td>Milho: ganhos em Chicago com demanda forte dão...</td>\n",
       "      <td>A terça-feira (22) chega ao fim com os preços ...</td>\n",
       "      <td>77.34</td>\n",
       "      <td>2.982690</td>\n",
       "      <td>Up</td>\n",
       "    </tr>\n",
       "  </tbody>\n",
       "</table>\n",
       "</div>"
      ],
      "text/plain": [
       "         date                                           headline  \\\n",
       "0  30/12/2020  Preço do milho fecha 2020 em alta no Brasil; p...   \n",
       "1  29/12/2020  Milho: demandas pontuais e volumes pequenos im...   \n",
       "2  28/12/2020  Milho se valoriza no Brasil e fecha a 2ªfeira ...   \n",
       "3  23/12/2020  Milho: quarta-feira (23) de ganhos em Chicago ...   \n",
       "4  22/12/2020  Milho: ganhos em Chicago com demanda forte dão...   \n",
       "\n",
       "                                                news  cepea_real  \\\n",
       "0  A quarta-feira (30) chega ao final com os preç...       78.65   \n",
       "1  A terça-feira (29) chega ao final com os preço...       78.45   \n",
       "2  A segunda-feira (28) chega ao final com os pre...       78.02   \n",
       "3  A quarta-feira (23) chega ao fim com os preços...       77.60   \n",
       "4  A terça-feira (22) chega ao fim com os preços ...       77.34   \n",
       "\n",
       "   percentage_real trend  \n",
       "0         0.254939  Down  \n",
       "1         0.551141    Up  \n",
       "2         0.541237    Up  \n",
       "3         0.336178  Down  \n",
       "4         2.982690    Up  "
      ]
     },
     "metadata": {},
     "output_type": "display_data"
    }
   ],
   "source": [
    "df = pd.read_excel('./datasets/noticias_milho_pt.xlsx')\n",
    "\n",
    "df = df.iloc[:, [0, 1, 3, 4, 6, 8]]\n",
    "display(df.head())"
   ]
  },
  {
   "cell_type": "code",
   "execution_count": 56,
   "id": "e8e7ac26",
   "metadata": {},
   "outputs": [
    {
     "name": "stdout",
     "output_type": "stream",
     "text": [
      "<class 'pandas.core.frame.DataFrame'>\n",
      "RangeIndex: 1481 entries, 0 to 1480\n",
      "Data columns (total 6 columns):\n",
      " #   Column           Non-Null Count  Dtype  \n",
      "---  ------           --------------  -----  \n",
      " 0   date             1481 non-null   object \n",
      " 1   headline         1481 non-null   object \n",
      " 2   news             1479 non-null   object \n",
      " 3   cepea_real       1481 non-null   float64\n",
      " 4   percentage_real  1481 non-null   float64\n",
      " 5   trend            1481 non-null   object \n",
      "dtypes: float64(2), object(4)\n",
      "memory usage: 69.5+ KB\n"
     ]
    }
   ],
   "source": [
    "df.info()"
   ]
  },
  {
   "cell_type": "code",
   "execution_count": 57,
   "id": "74df9ba9",
   "metadata": {},
   "outputs": [
    {
     "data": {
      "text/html": [
       "<div>\n",
       "<style scoped>\n",
       "    .dataframe tbody tr th:only-of-type {\n",
       "        vertical-align: middle;\n",
       "    }\n",
       "\n",
       "    .dataframe tbody tr th {\n",
       "        vertical-align: top;\n",
       "    }\n",
       "\n",
       "    .dataframe thead th {\n",
       "        text-align: right;\n",
       "    }\n",
       "</style>\n",
       "<table border=\"1\" class=\"dataframe\">\n",
       "  <thead>\n",
       "    <tr style=\"text-align: right;\">\n",
       "      <th></th>\n",
       "      <th>date</th>\n",
       "      <th>headline</th>\n",
       "      <th>news</th>\n",
       "      <th>cepea_real</th>\n",
       "      <th>percentage_real</th>\n",
       "      <th>trend</th>\n",
       "    </tr>\n",
       "  </thead>\n",
       "  <tbody>\n",
       "    <tr>\n",
       "      <th>0</th>\n",
       "      <td>2020-12-30</td>\n",
       "      <td>Preço do milho fecha 2020 em alta no Brasil; p...</td>\n",
       "      <td>A quarta-feira (30) chega ao final com os preç...</td>\n",
       "      <td>78.65</td>\n",
       "      <td>0.254939</td>\n",
       "      <td>Down</td>\n",
       "    </tr>\n",
       "    <tr>\n",
       "      <th>1</th>\n",
       "      <td>2020-12-29</td>\n",
       "      <td>Milho: demandas pontuais e volumes pequenos im...</td>\n",
       "      <td>A terça-feira (29) chega ao final com os preço...</td>\n",
       "      <td>78.45</td>\n",
       "      <td>0.551141</td>\n",
       "      <td>Up</td>\n",
       "    </tr>\n",
       "    <tr>\n",
       "      <th>2</th>\n",
       "      <td>2020-12-28</td>\n",
       "      <td>Milho se valoriza no Brasil e fecha a 2ªfeira ...</td>\n",
       "      <td>A segunda-feira (28) chega ao final com os pre...</td>\n",
       "      <td>78.02</td>\n",
       "      <td>0.541237</td>\n",
       "      <td>Up</td>\n",
       "    </tr>\n",
       "    <tr>\n",
       "      <th>3</th>\n",
       "      <td>2020-12-23</td>\n",
       "      <td>Milho: quarta-feira (23) de ganhos em Chicago ...</td>\n",
       "      <td>A quarta-feira (23) chega ao fim com os preços...</td>\n",
       "      <td>77.60</td>\n",
       "      <td>0.336178</td>\n",
       "      <td>Down</td>\n",
       "    </tr>\n",
       "    <tr>\n",
       "      <th>4</th>\n",
       "      <td>2020-12-22</td>\n",
       "      <td>Milho: ganhos em Chicago com demanda forte dão...</td>\n",
       "      <td>A terça-feira (22) chega ao fim com os preços ...</td>\n",
       "      <td>77.34</td>\n",
       "      <td>2.982690</td>\n",
       "      <td>Up</td>\n",
       "    </tr>\n",
       "  </tbody>\n",
       "</table>\n",
       "</div>"
      ],
      "text/plain": [
       "        date                                           headline  \\\n",
       "0 2020-12-30  Preço do milho fecha 2020 em alta no Brasil; p...   \n",
       "1 2020-12-29  Milho: demandas pontuais e volumes pequenos im...   \n",
       "2 2020-12-28  Milho se valoriza no Brasil e fecha a 2ªfeira ...   \n",
       "3 2020-12-23  Milho: quarta-feira (23) de ganhos em Chicago ...   \n",
       "4 2020-12-22  Milho: ganhos em Chicago com demanda forte dão...   \n",
       "\n",
       "                                                news  cepea_real  \\\n",
       "0  A quarta-feira (30) chega ao final com os preç...       78.65   \n",
       "1  A terça-feira (29) chega ao final com os preço...       78.45   \n",
       "2  A segunda-feira (28) chega ao final com os pre...       78.02   \n",
       "3  A quarta-feira (23) chega ao fim com os preços...       77.60   \n",
       "4  A terça-feira (22) chega ao fim com os preços ...       77.34   \n",
       "\n",
       "   percentage_real trend  \n",
       "0         0.254939  Down  \n",
       "1         0.551141    Up  \n",
       "2         0.541237    Up  \n",
       "3         0.336178  Down  \n",
       "4         2.982690    Up  "
      ]
     },
     "execution_count": 57,
     "metadata": {},
     "output_type": "execute_result"
    }
   ],
   "source": [
    "#Convert objects to string \n",
    "df.news = df.news.astype(str)\n",
    "df.headline = df.headline.astype(str)\n",
    "\n",
    "#Convert date object to datetime \n",
    "df.date = pd.to_datetime(df.date, format='%d/%m/%Y')\n",
    "\n",
    "df.head()"
   ]
  },
  {
   "cell_type": "markdown",
   "id": "0468707a",
   "metadata": {},
   "source": [
    "### Preprocessing texts "
   ]
  },
  {
   "cell_type": "code",
   "execution_count": 61,
   "id": "1137bd6e",
   "metadata": {},
   "outputs": [
    {
     "data": {
      "text/plain": [
       "'quarto feirar chegar final preço milho ampliar ganho mercar físico brasileiro levantamento realizar pelar equipar notícias agrícolas ser percebido desvalorização nenhum praça valorização aparecer pato branco pr preço londrina pr preço cascavel pr preço amambaí ms preço palma sola sc preço rio sul sc preço confira comer ficar todo cotação nesta quarto feirade acordar reportar diário radar investimentos apreensão relação clima algum ponto américa sul vaziar ofertar mercar físico dar tom alto parir cotação milho praça paulista último dia necessidade urgente fazer marcação preço bos preço futuro milho contabilizar ganho longo todo dia bolsa brasileira b principal cotação registrar movimentação entrar negativar positivar final quarto feirar vencimento janeiro ser cotar perda março valer elevação maio ser negociar ganhar julho ter valor valorização relação fechamento último semana futuro milho acumular valorização parir janeiro parir março parir maio parir julho comparação último quarto feirar movimentação durante mês dezembro milho b acumular alto parir janeiro parir março parir julho parir setembro comparação fechamento dia novembro leia abramilho projeta estoque milho apertar brasil manutenção preço altosmercado externojá preço internacional milho ter recuo longo quarto feirar ganhar forçar partir tardar fechar dia alto bolsa chicago cbot principal cotação registrar movimentação positivo entrar ponto final dia vencimento março ser cotar us valorização ponto maio valer us alto ponto julho ser negociar us ganhar ponto setembro ter valor us elevação ponto índice representar alto relação fechamento último terço feirar parir março parir maio parir julho parir setembro relação fechamento último semana futuro milho acumular valorização parir março parir maio parir julho parir setembro comparação último quinto feirar movimentação durante mês dezembro milho chicago acumular ganho parir março parir maio parir julho comparação fechamento dia novembro segundo informação agência reuters futuro milho renovar máximo ano mear dever preocupação clima secar américa sul apoiar indireto aumentar trigar soja volatilidade ser maior normal umar vez comerciante ter quadrar posição afastar mercar antar feriar ano novo mercar fechar sexto feirar explicar karl plume reuters chicago'"
      ]
     },
     "execution_count": 61,
     "metadata": {},
     "output_type": "execute_result"
    }
   ],
   "source": [
    "', '.join(stopwords.words('portuguese'))\n",
    "STOPWORDS = set(stopwords.words('portuguese'))\n",
    "STOPWORDS.add('r')\n",
    "\n",
    "def preprocess(text, stopwords=STOPWORDS):\n",
    "    text = re.sub(r'@\\w+', '', text) #remove mentions and hastags \n",
    "    text = re.sub(r'https?://\\S+|www\\.\\S+', '', text) #remove urls \n",
    "    text = re.sub(r'\\d+', '', text) #Remove numbers \n",
    "    #remove punctuation \n",
    "    for char in string.punctuation:\n",
    "        text = text.replace(char, ' ')     \n",
    "    #Lemmatize \n",
    "    doc = nlp(text)\n",
    "    text = ' '.join([token.lemma_ for token in doc if token.is_alpha])\n",
    "    #remove stopwords, spaces and applying lowercase \n",
    "    text = ' '.join(word for word in str(text).lower().split() if word not in stopwords)\n",
    "\n",
    "    return text\n",
    "\n",
    "df['processed_text'] = df.news.map(lambda text: preprocess(text))\n",
    "df.processed_text.iloc[0]"
   ]
  }
 ],
 "metadata": {
  "kernelspec": {
   "display_name": "Python 3 (ipykernel)",
   "language": "python",
   "name": "python3"
  },
  "language_info": {
   "codemirror_mode": {
    "name": "ipython",
    "version": 3
   },
   "file_extension": ".py",
   "mimetype": "text/x-python",
   "name": "python",
   "nbconvert_exporter": "python",
   "pygments_lexer": "ipython3",
   "version": "3.9.7"
  }
 },
 "nbformat": 4,
 "nbformat_minor": 5
}
