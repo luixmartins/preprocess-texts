{
 "cells": [
  {
   "cell_type": "markdown",
   "id": "8cf8a168",
   "metadata": {},
   "source": [
    "# # CLEANING TEXTS USING REGEX AND NLTK  \n",
    "\n",
    "The most important step when working with textual data is data cleaning, as you can't just go from source text to fitting a machine learning ou deep learning model. \n",
    "In fact, cleaning texts can be a very difficult task and there are several ways you can do this. On this notebook are some functions from the ***re*** (regular expression) and ***nltk*** (natural language toolkit) libraries that you can use to clear textual data. \n",
    "\n",
    "We will use the \"Real/Fake Job Posting Prediction\" dataset available on kaggle. You can check details of this dataset on the link: [https://www.kaggle.com/shivamb/real-or-fake-fake-jobposting-prediction]. \n",
    "\n",
    "This dataset will also be available in this repository, in the \"datasets\" folder. "
   ]
  },
  {
   "cell_type": "code",
   "execution_count": 1,
   "id": "9018da70",
   "metadata": {},
   "outputs": [
    {
     "name": "stderr",
     "output_type": "stream",
     "text": [
      "[nltk_data] Downloading package stopwords to\n",
      "[nltk_data]     C:\\Users\\luizh\\AppData\\Roaming\\nltk_data...\n",
      "[nltk_data]   Package stopwords is already up-to-date!\n"
     ]
    },
    {
     "data": {
      "text/plain": [
       "True"
      ]
     },
     "execution_count": 1,
     "metadata": {},
     "output_type": "execute_result"
    }
   ],
   "source": [
    "#LET´S START BY IMPORTING THE NECESSARY LIBRARIES \n",
    "import pandas as pd \n",
    "import numpy as np \n",
    "import re \n",
    "import nltk \n",
    "import string\n",
    "from nltk.corpus import stopwords\n",
    "\n",
    "nltk.download('stopwords')"
   ]
  },
  {
   "cell_type": "code",
   "execution_count": 32,
   "id": "ffa74255",
   "metadata": {},
   "outputs": [],
   "source": [
    "#IMPORT AND SELECT JOB DESCRIPTIONS  \n",
    "df = pd.read_csv(\"./datasets/fake_job_postings.csv\") \n",
    "\n",
    "texts = df.description.astype('str')"
   ]
  },
  {
   "cell_type": "code",
   "execution_count": 16,
   "id": "5f1fe8b3",
   "metadata": {},
   "outputs": [
    {
     "name": "stdout",
     "output_type": "stream",
     "text": [
      "Organised - Focused - Vibrant - Awesome!Do you have a passion for customer service? Slick typing skills? Maybe Account Management? ...And think administration is cooler than a polar bear on a jetski? Then we need to hear you! We are the Cloud Video Production Service and opperating on a glodal level. Yeah, it's pretty cool. Serious about delivering a world class product and excellent customer service.Our rapidly expanding business is looking for a talented Project Manager to manage the successful delivery of video projects, manage client communications and drive the production process. Work with some of the coolest brands on the planet and learn from a global team that are representing NZ is a huge way!We are entering the next growth stage of our business and growing quickly internationally.  Therefore, the position is bursting with opportunity for the right person entering the business at the right time. 90 Seconds, the worlds Cloud Video Production Service - http://90#URL_fbe6559afac620a3cd2c22281f7b8d0eef56a73e3d9a311e2f1ca13d081dd630#90 Seconds is the worlds Cloud Video Production Service enabling brands and agencies to get high quality online video content shot and produced anywhere in the world. Fast, affordable, and all managed seamlessly in the cloud from purchase to publish. 90 Seconds removes the hassle, cost, risk and speed issues of working with regular video production companies by managing every aspect of video projects in a beautiful online experience.  With a growing network of over 2,000 rated video professionals in over 50 countries and dedicated production success teams in 5 countries guaranteeing video project success 100%. It's as easy as commissioning a quick google adwords campaign.90 Seconds has produced almost 4,000 videos in over 30 Countries for over 500 Global brands including some of the worlds largest including Paypal, L'oreal, Sony and Barclays and has offices in Auckland, London, Sydney, Tokyo &amp; Singapore.Our Auckland office is based right in the heart of the Wynyard Quarter Innovation Precinct - GridAKL! \n"
     ]
    }
   ],
   "source": [
    "#HERE IS AN EXAMPLE WHERE WE CAN SEE THAT THE TEXTS HAVE SEVERAL CHARACTERS THAT CAN INTERFERE IN A CLASSIFICATION MODEL\n",
    "print(texts.iloc[1])"
   ]
  },
  {
   "cell_type": "code",
   "execution_count": 33,
   "id": "29c8f8dd",
   "metadata": {},
   "outputs": [],
   "source": [
    "#Now, let's start processing this data. \n",
    "#First, let's start by removing links present in the data. For that, \n",
    "# let's create the folowwing function:\n",
    "def remove_url(text):\n",
    "    comp = re.compile(r'https?://\\S+|www\\.\\S+')\n",
    "    return comp.sub(r'', text)\n",
    "\n",
    "#Now, let's apply to the data \n",
    "texts = texts.map(lambda text: remove_url(text)) \n",
    "\n",
    "#Let's create another example, remove html and extra spaces in texts\n",
    "def spaces_html(text):\n",
    "    #It is possible to use the sub function directly, without using the compile function\n",
    "    text = re.sub(r'<.*?>', '', text) \n",
    "    text = re.sub(r\"\\s+\", \" \", text).strip()\n",
    "    \n",
    "    return text\n",
    "#Applying to the data\n",
    "texts = texts.map(lambda text: spaces_html(text))"
   ]
  },
  {
   "cell_type": "code",
   "execution_count": 27,
   "id": "2689684b",
   "metadata": {},
   "outputs": [
    {
     "name": "stdout",
     "output_type": "stream",
     "text": [
      "Organised - Focused - Vibrant - Awesome!Do you have a passion for customer service? Slick typing skills? Maybe Account Management? ...And think administration is cooler than a polar bear on a jetski? Then we need to hear you! We are the Cloud Video Production Service and opperating on a glodal level. Yeah, it's pretty cool. Serious about delivering a world class product and excellent customer service.Our rapidly expanding business is looking for a talented Project Manager to manage the successful delivery of video projects, manage client communications and drive the production process. Work with some of the coolest brands on the planet and learn from a global team that are representing NZ is a huge way!We are entering the next growth stage of our business and growing quickly internationally. Therefore, the position is bursting with opportunity for the right person entering the business at the right time. 90 Seconds, the worlds Cloud Video Production Service - Seconds is the worlds Cloud Video Production Service enabling brands and agencies to get high quality online video content shot and produced anywhere in the world. Fast, affordable, and all managed seamlessly in the cloud from purchase to publish. 90 Seconds removes the hassle, cost, risk and speed issues of working with regular video production companies by managing every aspect of video projects in a beautiful online experience. With a growing network of over 2,000 rated video professionals in over 50 countries and dedicated production success teams in 5 countries guaranteeing video project success 100%. It's as easy as commissioning a quick google adwords campaign.90 Seconds has produced almost 4,000 videos in over 30 Countries for over 500 Global brands including some of the worlds largest including Paypal, L'oreal, Sony and Barclays and has offices in Auckland, London, Sydney, Tokyo &amp; Singapore.Our Auckland office is based right in the heart of the Wynyard Quarter Innovation Precinct - GridAKL!\n"
     ]
    }
   ],
   "source": [
    "#Show a text of the data \n",
    "print(texts.iloc[1])\n",
    "\n",
    "#We can see that it's much better, right?"
   ]
  },
  {
   "cell_type": "code",
   "execution_count": 34,
   "id": "51082a09",
   "metadata": {},
   "outputs": [],
   "source": [
    "#Ok, we can see that there are still some problems in our text above, \n",
    "# like punctuation, capital letters, and numbers. Let's fix it!\n",
    "\n",
    "#First, we'll remove the numbers. \n",
    "texts = texts.map(lambda text: re.sub(r'\\d+', '', text))\n",
    "\n",
    "#Now, we'll take care of special characters and capital letters. \n",
    "def remove_punctuation(text):\n",
    "    for char in string.punctuation:\n",
    "        text = text.replace(char, ' ')\n",
    "    return ' '.join([word for word in text.lower().split()]) #Applying lowercase to text and\n",
    "                                                                #remove remaining spaces. \n",
    "texts = texts.map(lambda text: remove_punctuation(text))"
   ]
  },
  {
   "cell_type": "code",
   "execution_count": 29,
   "id": "1dd450cd",
   "metadata": {},
   "outputs": [
    {
     "data": {
      "text/plain": [
       "'organised focused vibrant awesome do you have a passion for customer service slick typing skills maybe account management and think administration is cooler than a polar bear on a jetski then we need to hear you we are the cloud video production service and opperating on a glodal level yeah it s pretty cool serious about delivering a world class product and excellent customer service our rapidly expanding business is looking for a talented project manager to manage the successful delivery of video projects manage client communications and drive the production process work with some of the coolest brands on the planet and learn from a global team that are representing nz is a huge way we are entering the next growth stage of our business and growing quickly internationally therefore the position is bursting with opportunity for the right person entering the business at the right time seconds the worlds cloud video production service seconds is the worlds cloud video production service enabling brands and agencies to get high quality online video content shot and produced anywhere in the world fast affordable and all managed seamlessly in the cloud from purchase to publish seconds removes the hassle cost risk and speed issues of working with regular video production companies by managing every aspect of video projects in a beautiful online experience with a growing network of over rated video professionals in over countries and dedicated production success teams in countries guaranteeing video project success it s as easy as commissioning a quick google adwords campaign seconds has produced almost videos in over countries for over global brands including some of the worlds largest including paypal l oreal sony and barclays and has offices in auckland london sydney tokyo amp singapore our auckland office is based right in the heart of the wynyard quarter innovation precinct gridakl'"
      ]
     },
     "execution_count": 29,
     "metadata": {},
     "output_type": "execute_result"
    }
   ],
   "source": [
    "texts.iloc[1]"
   ]
  },
  {
   "cell_type": "code",
   "execution_count": 35,
   "id": "39974c27",
   "metadata": {},
   "outputs": [],
   "source": [
    "#Okay, looks like we're ready? No. \n",
    "# We need to carry out the essential step for processing textual data. \n",
    "# remove stopwords. \n",
    "# Let's go?\n",
    "\", \".join(stopwords.words('english'))\n",
    "STOPWORDS = set(stopwords.words('english'))\n",
    "\n",
    "def remove_stopwords(text):\n",
    "    return \" \".join([word for word in str(text).split() if word not in STOPWORDS])\n",
    "\n",
    "texts = texts.map(lambda text: remove_stopwords(text))"
   ]
  },
  {
   "cell_type": "code",
   "execution_count": 41,
   "id": "234d833d",
   "metadata": {},
   "outputs": [
    {
     "name": "stdout",
     "output_type": "stream",
     "text": [
      "organised focused vibrant awesome passion customer service slick typing skills maybe account management think administration cooler polar bear jetski need hear cloud video production service opperating glodal level yeah pretty cool serious delivering world class product excellent customer service rapidly expanding business looking talented project manager manage successful delivery video projects manage client communications drive production process work coolest brands planet learn global team representing nz huge way entering next growth stage business growing quickly internationally therefore position bursting opportunity right person entering business right time seconds worlds cloud video production service seconds worlds cloud video production service enabling brands agencies get high quality online video content shot produced anywhere world fast affordable managed seamlessly cloud purchase publish seconds removes hassle cost risk speed issues working regular video production companies managing every aspect video projects beautiful online experience growing network rated video professionals countries dedicated production success teams countries guaranteeing video project success easy commissioning quick google adwords campaign seconds produced almost videos countries global brands including worlds largest including paypal l oreal sony barclays offices auckland london sydney tokyo amp singapore auckland office based right heart wynyard quarter innovation precinct gridakl\n"
     ]
    }
   ],
   "source": [
    "print(texts.iloc[1])"
   ]
  },
  {
   "cell_type": "code",
   "execution_count": null,
   "id": "f464a532",
   "metadata": {},
   "outputs": [],
   "source": [
    "#We can see above that our text is much cleaner than the original. \n",
    "# There are still several possibilities to preprocess texts such as removing \n",
    "# mentions, hastags, apllying lemmatizer or stemmer, but today we stop here \n",
    "# and the challenge of applying these pre-processing is up to you :) "
   ]
  }
 ],
 "metadata": {
  "kernelspec": {
   "display_name": "Python 3 (ipykernel)",
   "language": "python",
   "name": "python3"
  },
  "language_info": {
   "codemirror_mode": {
    "name": "ipython",
    "version": 3
   },
   "file_extension": ".py",
   "mimetype": "text/x-python",
   "name": "python",
   "nbconvert_exporter": "python",
   "pygments_lexer": "ipython3",
   "version": "3.9.7"
  }
 },
 "nbformat": 4,
 "nbformat_minor": 5
}
