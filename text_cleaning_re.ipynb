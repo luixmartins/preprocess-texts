{
 "cells": [
  {
   "cell_type": "markdown",
   "id": "8cf8a168",
   "metadata": {},
   "source": [
    "# # CLEANING TEXTS USING REGEX AND NLTK  \n",
    "\n",
    "The most important step when working with textual data is data cleaning, as you can't just go from source text to fitting a machine learning ou deep learning model. \n",
    "In fact, cleaning texts can be a very difficult task and there are several ways you can do this. On this notebook are some functions from the ***re*** (regular expression) and ***nltk*** (natural language toolkit) libraries that you can use to clear textual data. \n",
    "\n",
    "We will use the \"Real/Fake Job Posting Prediction\" dataset available on kaggle. You can check details of this dataset on the link: [https://www.kaggle.com/shivamb/real-or-fake-fake-jobposting-prediction]. \n",
    "\n",
    "This dataset will also be available in this repository, in the \"datasets\" folder. "
   ]
  },
  {
   "cell_type": "code",
   "execution_count": 2,
   "id": "9018da70",
   "metadata": {},
   "outputs": [],
   "source": [
    "#LET´S START BY IMPORTING THE NECESSARY LIBRARIES \n",
    "\n",
    "import pandas as pd \n",
    "import numpy as np \n",
    "import re \n",
    "import nltk "
   ]
  },
  {
   "cell_type": "code",
   "execution_count": 8,
   "id": "ffa74255",
   "metadata": {},
   "outputs": [],
   "source": [
    "#IMPORT AND SELECT JOB DESCRIPTIONS  \n",
    "df = pd.read_csv(\"./datasets/fake_job_postings.csv\") \n",
    "\n",
    "texts = df.description"
   ]
  },
  {
   "cell_type": "code",
   "execution_count": 14,
   "id": "5f1fe8b3",
   "metadata": {},
   "outputs": [
    {
     "name": "stdout",
     "output_type": "stream",
     "text": [
      "Organised - Focused - Vibrant - Awesome!Do you have a passion for customer service? Slick typing skills? Maybe Account Management? ...And think administration is cooler than a polar bear on a jetski? Then we need to hear you! We are the Cloud Video Production Service and opperating on a glodal level. Yeah, it's pretty cool. Serious about delivering a world class product and excellent customer service.Our rapidly expanding business is looking for a talented Project Manager to manage the successful delivery of video projects, manage client communications and drive the production process. Work with some of the coolest brands on the planet and learn from a global team that are representing NZ is a huge way!We are entering the next growth stage of our business and growing quickly internationally.  Therefore, the position is bursting with opportunity for the right person entering the business at the right time. 90 Seconds, the worlds Cloud Video Production Service - http://90#URL_fbe6559afac620a3cd2c22281f7b8d0eef56a73e3d9a311e2f1ca13d081dd630#90 Seconds is the worlds Cloud Video Production Service enabling brands and agencies to get high quality online video content shot and produced anywhere in the world. Fast, affordable, and all managed seamlessly in the cloud from purchase to publish. 90 Seconds removes the hassle, cost, risk and speed issues of working with regular video production companies by managing every aspect of video projects in a beautiful online experience.  With a growing network of over 2,000 rated video professionals in over 50 countries and dedicated production success teams in 5 countries guaranteeing video project success 100%. It's as easy as commissioning a quick google adwords campaign.90 Seconds has produced almost 4,000 videos in over 30 Countries for over 500 Global brands including some of the worlds largest including Paypal, L'oreal, Sony and Barclays and has offices in Auckland, London, Sydney, Tokyo &amp; Singapore.Our Auckland office is based right in the heart of the Wynyard Quarter Innovation Precinct - GridAKL! \n"
     ]
    }
   ],
   "source": [
    "#HERE IS AN EXAMPLE WHERE WE CAN SEE THAT THE TEXTS HAVE SEVERAL CHARACTERS THAT CAN INTERFERE IN A CLASSIFICATION MODEL\n",
    "\n",
    "print(texts.iloc[1])"
   ]
  }
 ],
 "metadata": {
  "kernelspec": {
   "display_name": "Python 3 (ipykernel)",
   "language": "python",
   "name": "python3"
  },
  "language_info": {
   "codemirror_mode": {
    "name": "ipython",
    "version": 3
   },
   "file_extension": ".py",
   "mimetype": "text/x-python",
   "name": "python",
   "nbconvert_exporter": "python",
   "pygments_lexer": "ipython3",
   "version": "3.9.7"
  }
 },
 "nbformat": 4,
 "nbformat_minor": 5
}
